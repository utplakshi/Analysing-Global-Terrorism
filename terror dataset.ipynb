{
 "cells": [
  {
   "cell_type": "code",
   "execution_count": 1,
   "id": "ee6f5d8b",
   "metadata": {},
   "outputs": [],
   "source": [
    "import pandas as pd #working with dataframes\n",
    "import numpy as np #numerical operations\n",
    "import seaborn as sns #visualization"
   ]
  },
  {
   "cell_type": "code",
   "execution_count": 2,
   "id": "3542350a",
   "metadata": {},
   "outputs": [
    {
     "name": "stderr",
     "output_type": "stream",
     "text": [
      "c:\\users\\swathilakshmi\\appdata\\local\\programs\\python\\python39\\lib\\site-packages\\IPython\\core\\interactiveshell.py:3169: DtypeWarning: Columns (4,6,31,33,61,62,63,76,79,90,92,94,96,114,115,121) have mixed types.Specify dtype option on import or set low_memory=False.\n",
      "  has_raised = await self.run_ast_nodes(code_ast.body, cell_name,\n"
     ]
    }
   ],
   "source": [
    "#Importing dataset \n",
    "income_data = pd.read_csv('terror_dataset.csv')\n",
    "\n",
    "#Creating a copy of OG data\n",
    "data = income_data.copy()"
   ]
  },
  {
   "cell_type": "markdown",
   "id": "658a6740",
   "metadata": {},
   "source": [
    "## 1. Getting to know the data"
   ]
  },
  {
   "cell_type": "code",
   "execution_count": 3,
   "id": "9d05c347",
   "metadata": {},
   "outputs": [
    {
     "name": "stdout",
     "output_type": "stream",
     "text": [
      "<class 'pandas.core.frame.DataFrame'>\n",
      "RangeIndex: 181691 entries, 0 to 181690\n",
      "Columns: 135 entries, eventid to related\n",
      "dtypes: float64(55), int64(22), object(58)\n",
      "memory usage: 187.1+ MB\n",
      "None\n"
     ]
    }
   ],
   "source": [
    "print(data.info())"
   ]
  },
  {
   "cell_type": "code",
   "execution_count": 4,
   "id": "3a2eb242",
   "metadata": {},
   "outputs": [
    {
     "data": {
      "text/html": [
       "<div>\n",
       "<style scoped>\n",
       "    .dataframe tbody tr th:only-of-type {\n",
       "        vertical-align: middle;\n",
       "    }\n",
       "\n",
       "    .dataframe tbody tr th {\n",
       "        vertical-align: top;\n",
       "    }\n",
       "\n",
       "    .dataframe thead th {\n",
       "        text-align: right;\n",
       "    }\n",
       "</style>\n",
       "<table border=\"1\" class=\"dataframe\">\n",
       "  <thead>\n",
       "    <tr style=\"text-align: right;\">\n",
       "      <th></th>\n",
       "      <th>eventid</th>\n",
       "      <th>iyear</th>\n",
       "      <th>imonth</th>\n",
       "      <th>iday</th>\n",
       "      <th>approxdate</th>\n",
       "      <th>extended</th>\n",
       "      <th>resolution</th>\n",
       "      <th>country</th>\n",
       "      <th>country_txt</th>\n",
       "      <th>region</th>\n",
       "      <th>...</th>\n",
       "      <th>addnotes</th>\n",
       "      <th>scite1</th>\n",
       "      <th>scite2</th>\n",
       "      <th>scite3</th>\n",
       "      <th>dbsource</th>\n",
       "      <th>INT_LOG</th>\n",
       "      <th>INT_IDEO</th>\n",
       "      <th>INT_MISC</th>\n",
       "      <th>INT_ANY</th>\n",
       "      <th>related</th>\n",
       "    </tr>\n",
       "  </thead>\n",
       "  <tbody>\n",
       "    <tr>\n",
       "      <th>0</th>\n",
       "      <td>False</td>\n",
       "      <td>False</td>\n",
       "      <td>False</td>\n",
       "      <td>False</td>\n",
       "      <td>True</td>\n",
       "      <td>False</td>\n",
       "      <td>True</td>\n",
       "      <td>False</td>\n",
       "      <td>False</td>\n",
       "      <td>False</td>\n",
       "      <td>...</td>\n",
       "      <td>True</td>\n",
       "      <td>True</td>\n",
       "      <td>True</td>\n",
       "      <td>True</td>\n",
       "      <td>False</td>\n",
       "      <td>False</td>\n",
       "      <td>False</td>\n",
       "      <td>False</td>\n",
       "      <td>False</td>\n",
       "      <td>True</td>\n",
       "    </tr>\n",
       "    <tr>\n",
       "      <th>1</th>\n",
       "      <td>False</td>\n",
       "      <td>False</td>\n",
       "      <td>False</td>\n",
       "      <td>False</td>\n",
       "      <td>True</td>\n",
       "      <td>False</td>\n",
       "      <td>True</td>\n",
       "      <td>False</td>\n",
       "      <td>False</td>\n",
       "      <td>False</td>\n",
       "      <td>...</td>\n",
       "      <td>True</td>\n",
       "      <td>True</td>\n",
       "      <td>True</td>\n",
       "      <td>True</td>\n",
       "      <td>False</td>\n",
       "      <td>False</td>\n",
       "      <td>False</td>\n",
       "      <td>False</td>\n",
       "      <td>False</td>\n",
       "      <td>True</td>\n",
       "    </tr>\n",
       "    <tr>\n",
       "      <th>2</th>\n",
       "      <td>False</td>\n",
       "      <td>False</td>\n",
       "      <td>False</td>\n",
       "      <td>False</td>\n",
       "      <td>True</td>\n",
       "      <td>False</td>\n",
       "      <td>True</td>\n",
       "      <td>False</td>\n",
       "      <td>False</td>\n",
       "      <td>False</td>\n",
       "      <td>...</td>\n",
       "      <td>True</td>\n",
       "      <td>True</td>\n",
       "      <td>True</td>\n",
       "      <td>True</td>\n",
       "      <td>False</td>\n",
       "      <td>False</td>\n",
       "      <td>False</td>\n",
       "      <td>False</td>\n",
       "      <td>False</td>\n",
       "      <td>True</td>\n",
       "    </tr>\n",
       "    <tr>\n",
       "      <th>3</th>\n",
       "      <td>False</td>\n",
       "      <td>False</td>\n",
       "      <td>False</td>\n",
       "      <td>False</td>\n",
       "      <td>True</td>\n",
       "      <td>False</td>\n",
       "      <td>True</td>\n",
       "      <td>False</td>\n",
       "      <td>False</td>\n",
       "      <td>False</td>\n",
       "      <td>...</td>\n",
       "      <td>True</td>\n",
       "      <td>True</td>\n",
       "      <td>True</td>\n",
       "      <td>True</td>\n",
       "      <td>False</td>\n",
       "      <td>False</td>\n",
       "      <td>False</td>\n",
       "      <td>False</td>\n",
       "      <td>False</td>\n",
       "      <td>True</td>\n",
       "    </tr>\n",
       "    <tr>\n",
       "      <th>4</th>\n",
       "      <td>False</td>\n",
       "      <td>False</td>\n",
       "      <td>False</td>\n",
       "      <td>False</td>\n",
       "      <td>True</td>\n",
       "      <td>False</td>\n",
       "      <td>True</td>\n",
       "      <td>False</td>\n",
       "      <td>False</td>\n",
       "      <td>False</td>\n",
       "      <td>...</td>\n",
       "      <td>True</td>\n",
       "      <td>True</td>\n",
       "      <td>True</td>\n",
       "      <td>True</td>\n",
       "      <td>False</td>\n",
       "      <td>False</td>\n",
       "      <td>False</td>\n",
       "      <td>False</td>\n",
       "      <td>False</td>\n",
       "      <td>True</td>\n",
       "    </tr>\n",
       "    <tr>\n",
       "      <th>...</th>\n",
       "      <td>...</td>\n",
       "      <td>...</td>\n",
       "      <td>...</td>\n",
       "      <td>...</td>\n",
       "      <td>...</td>\n",
       "      <td>...</td>\n",
       "      <td>...</td>\n",
       "      <td>...</td>\n",
       "      <td>...</td>\n",
       "      <td>...</td>\n",
       "      <td>...</td>\n",
       "      <td>...</td>\n",
       "      <td>...</td>\n",
       "      <td>...</td>\n",
       "      <td>...</td>\n",
       "      <td>...</td>\n",
       "      <td>...</td>\n",
       "      <td>...</td>\n",
       "      <td>...</td>\n",
       "      <td>...</td>\n",
       "      <td>...</td>\n",
       "    </tr>\n",
       "    <tr>\n",
       "      <th>181686</th>\n",
       "      <td>False</td>\n",
       "      <td>False</td>\n",
       "      <td>False</td>\n",
       "      <td>False</td>\n",
       "      <td>True</td>\n",
       "      <td>False</td>\n",
       "      <td>True</td>\n",
       "      <td>False</td>\n",
       "      <td>False</td>\n",
       "      <td>False</td>\n",
       "      <td>...</td>\n",
       "      <td>True</td>\n",
       "      <td>False</td>\n",
       "      <td>False</td>\n",
       "      <td>False</td>\n",
       "      <td>False</td>\n",
       "      <td>False</td>\n",
       "      <td>False</td>\n",
       "      <td>False</td>\n",
       "      <td>False</td>\n",
       "      <td>True</td>\n",
       "    </tr>\n",
       "    <tr>\n",
       "      <th>181687</th>\n",
       "      <td>False</td>\n",
       "      <td>False</td>\n",
       "      <td>False</td>\n",
       "      <td>False</td>\n",
       "      <td>True</td>\n",
       "      <td>False</td>\n",
       "      <td>True</td>\n",
       "      <td>False</td>\n",
       "      <td>False</td>\n",
       "      <td>False</td>\n",
       "      <td>...</td>\n",
       "      <td>True</td>\n",
       "      <td>False</td>\n",
       "      <td>False</td>\n",
       "      <td>False</td>\n",
       "      <td>False</td>\n",
       "      <td>False</td>\n",
       "      <td>False</td>\n",
       "      <td>False</td>\n",
       "      <td>False</td>\n",
       "      <td>True</td>\n",
       "    </tr>\n",
       "    <tr>\n",
       "      <th>181688</th>\n",
       "      <td>False</td>\n",
       "      <td>False</td>\n",
       "      <td>False</td>\n",
       "      <td>False</td>\n",
       "      <td>True</td>\n",
       "      <td>False</td>\n",
       "      <td>True</td>\n",
       "      <td>False</td>\n",
       "      <td>False</td>\n",
       "      <td>False</td>\n",
       "      <td>...</td>\n",
       "      <td>True</td>\n",
       "      <td>False</td>\n",
       "      <td>True</td>\n",
       "      <td>True</td>\n",
       "      <td>False</td>\n",
       "      <td>False</td>\n",
       "      <td>False</td>\n",
       "      <td>False</td>\n",
       "      <td>False</td>\n",
       "      <td>True</td>\n",
       "    </tr>\n",
       "    <tr>\n",
       "      <th>181689</th>\n",
       "      <td>False</td>\n",
       "      <td>False</td>\n",
       "      <td>False</td>\n",
       "      <td>False</td>\n",
       "      <td>True</td>\n",
       "      <td>False</td>\n",
       "      <td>True</td>\n",
       "      <td>False</td>\n",
       "      <td>False</td>\n",
       "      <td>False</td>\n",
       "      <td>...</td>\n",
       "      <td>True</td>\n",
       "      <td>False</td>\n",
       "      <td>True</td>\n",
       "      <td>True</td>\n",
       "      <td>False</td>\n",
       "      <td>False</td>\n",
       "      <td>False</td>\n",
       "      <td>False</td>\n",
       "      <td>False</td>\n",
       "      <td>True</td>\n",
       "    </tr>\n",
       "    <tr>\n",
       "      <th>181690</th>\n",
       "      <td>False</td>\n",
       "      <td>False</td>\n",
       "      <td>False</td>\n",
       "      <td>False</td>\n",
       "      <td>True</td>\n",
       "      <td>False</td>\n",
       "      <td>True</td>\n",
       "      <td>False</td>\n",
       "      <td>False</td>\n",
       "      <td>False</td>\n",
       "      <td>...</td>\n",
       "      <td>True</td>\n",
       "      <td>False</td>\n",
       "      <td>False</td>\n",
       "      <td>True</td>\n",
       "      <td>False</td>\n",
       "      <td>False</td>\n",
       "      <td>False</td>\n",
       "      <td>False</td>\n",
       "      <td>False</td>\n",
       "      <td>True</td>\n",
       "    </tr>\n",
       "  </tbody>\n",
       "</table>\n",
       "<p>181691 rows × 135 columns</p>\n",
       "</div>"
      ],
      "text/plain": [
       "        eventid  iyear  imonth   iday  approxdate  extended  resolution  \\\n",
       "0         False  False   False  False        True     False        True   \n",
       "1         False  False   False  False        True     False        True   \n",
       "2         False  False   False  False        True     False        True   \n",
       "3         False  False   False  False        True     False        True   \n",
       "4         False  False   False  False        True     False        True   \n",
       "...         ...    ...     ...    ...         ...       ...         ...   \n",
       "181686    False  False   False  False        True     False        True   \n",
       "181687    False  False   False  False        True     False        True   \n",
       "181688    False  False   False  False        True     False        True   \n",
       "181689    False  False   False  False        True     False        True   \n",
       "181690    False  False   False  False        True     False        True   \n",
       "\n",
       "        country  country_txt  region  ...  addnotes  scite1  scite2  scite3  \\\n",
       "0         False        False   False  ...      True    True    True    True   \n",
       "1         False        False   False  ...      True    True    True    True   \n",
       "2         False        False   False  ...      True    True    True    True   \n",
       "3         False        False   False  ...      True    True    True    True   \n",
       "4         False        False   False  ...      True    True    True    True   \n",
       "...         ...          ...     ...  ...       ...     ...     ...     ...   \n",
       "181686    False        False   False  ...      True   False   False   False   \n",
       "181687    False        False   False  ...      True   False   False   False   \n",
       "181688    False        False   False  ...      True   False    True    True   \n",
       "181689    False        False   False  ...      True   False    True    True   \n",
       "181690    False        False   False  ...      True   False   False    True   \n",
       "\n",
       "        dbsource  INT_LOG  INT_IDEO  INT_MISC  INT_ANY  related  \n",
       "0          False    False     False     False    False     True  \n",
       "1          False    False     False     False    False     True  \n",
       "2          False    False     False     False    False     True  \n",
       "3          False    False     False     False    False     True  \n",
       "4          False    False     False     False    False     True  \n",
       "...          ...      ...       ...       ...      ...      ...  \n",
       "181686     False    False     False     False    False     True  \n",
       "181687     False    False     False     False    False     True  \n",
       "181688     False    False     False     False    False     True  \n",
       "181689     False    False     False     False    False     True  \n",
       "181690     False    False     False     False    False     True  \n",
       "\n",
       "[181691 rows x 135 columns]"
      ]
     },
     "execution_count": 4,
     "metadata": {},
     "output_type": "execute_result"
    }
   ],
   "source": [
    "#Checking for missing values\n",
    "data.isnull()"
   ]
  },
  {
   "cell_type": "code",
   "execution_count": 5,
   "id": "53326b6f",
   "metadata": {},
   "outputs": [
    {
     "name": "stdout",
     "output_type": "stream",
     "text": [
      "Missing values in the columns are: \n",
      " eventid            0\n",
      "iyear              0\n",
      "imonth             0\n",
      "iday               0\n",
      "approxdate    172452\n",
      "               ...  \n",
      "INT_LOG            0\n",
      "INT_IDEO           0\n",
      "INT_MISC           0\n",
      "INT_ANY            0\n",
      "related       156653\n",
      "Length: 135, dtype: int64\n"
     ]
    }
   ],
   "source": [
    "print('Missing values in the columns are: \\n',data.isnull().sum())"
   ]
  },
  {
   "cell_type": "code",
   "execution_count": 6,
   "id": "5875b1d9",
   "metadata": {},
   "outputs": [
    {
     "name": "stdout",
     "output_type": "stream",
     "text": [
      "            eventid          iyear         imonth           iday  \\\n",
      "count  1.816910e+05  181691.000000  181691.000000  181691.000000   \n",
      "mean   2.002705e+11    2002.638997       6.467277      15.505644   \n",
      "std    1.325957e+09      13.259430       3.388303       8.814045   \n",
      "min    1.970000e+11    1970.000000       0.000000       0.000000   \n",
      "25%    1.991021e+11    1991.000000       4.000000       8.000000   \n",
      "50%    2.009022e+11    2009.000000       6.000000      15.000000   \n",
      "75%    2.014081e+11    2014.000000       9.000000      23.000000   \n",
      "max    2.017123e+11    2017.000000      12.000000      31.000000   \n",
      "\n",
      "            extended        country         region       latitude  \\\n",
      "count  181691.000000  181691.000000  181691.000000  177135.000000   \n",
      "mean        0.045346     131.968501       7.160938      23.498343   \n",
      "std         0.208063     112.414535       2.933408      18.569242   \n",
      "min         0.000000       4.000000       1.000000     -53.154613   \n",
      "25%         0.000000      78.000000       5.000000      11.510046   \n",
      "50%         0.000000      98.000000       6.000000      31.467463   \n",
      "75%         0.000000     160.000000      10.000000      34.685087   \n",
      "max         1.000000    1004.000000      12.000000      74.633553   \n",
      "\n",
      "          longitude    specificity  ...     ransomamt   ransomamtus  \\\n",
      "count  1.771340e+05  181685.000000  ...  1.350000e+03  5.630000e+02   \n",
      "mean  -4.586957e+02       1.451452  ...  3.172530e+06  5.784865e+05   \n",
      "std    2.047790e+05       0.995430  ...  3.021157e+07  7.077924e+06   \n",
      "min   -8.618590e+07       1.000000  ... -9.900000e+01 -9.900000e+01   \n",
      "25%    4.545640e+00       1.000000  ...  0.000000e+00  0.000000e+00   \n",
      "50%    4.324651e+01       1.000000  ...  1.500000e+04  0.000000e+00   \n",
      "75%    6.871033e+01       1.000000  ...  4.000000e+05  0.000000e+00   \n",
      "max    1.793667e+02       5.000000  ...  1.000000e+09  1.320000e+08   \n",
      "\n",
      "         ransompaid  ransompaidus  hostkidoutcome     nreleased  \\\n",
      "count  7.740000e+02    552.000000    10991.000000  10400.000000   \n",
      "mean   7.179437e+05    240.378623        4.629242    -29.018269   \n",
      "std    1.014392e+07   2940.967293        2.035360     65.720119   \n",
      "min   -9.900000e+01    -99.000000        1.000000    -99.000000   \n",
      "25%   -9.900000e+01      0.000000        2.000000    -99.000000   \n",
      "50%    0.000000e+00      0.000000        4.000000      0.000000   \n",
      "75%    1.273412e+03      0.000000        7.000000      1.000000   \n",
      "max    2.750000e+08  48000.000000        7.000000   2769.000000   \n",
      "\n",
      "             INT_LOG       INT_IDEO       INT_MISC        INT_ANY  \n",
      "count  181691.000000  181691.000000  181691.000000  181691.000000  \n",
      "mean       -4.543731      -4.464398       0.090010      -3.945952  \n",
      "std         4.543547       4.637152       0.568457       4.691325  \n",
      "min        -9.000000      -9.000000      -9.000000      -9.000000  \n",
      "25%        -9.000000      -9.000000       0.000000      -9.000000  \n",
      "50%        -9.000000      -9.000000       0.000000       0.000000  \n",
      "75%         0.000000       0.000000       0.000000       0.000000  \n",
      "max         1.000000       1.000000       1.000000       1.000000  \n",
      "\n",
      "[8 rows x 77 columns]\n"
     ]
    }
   ],
   "source": [
    "#Summary of Numerical Values\n",
    "summ_num = data.describe()\n",
    "print(summ_num)"
   ]
  },
  {
   "cell_type": "code",
   "execution_count": 7,
   "id": "dc37cd33",
   "metadata": {},
   "outputs": [
    {
     "name": "stdout",
     "output_type": "stream",
     "text": [
      "                   approxdate resolution country_txt  \\\n",
      "count                    9239       2220      181691   \n",
      "unique                   2244       1859         205   \n",
      "top     September 18-24, 2016   8/4/1998        Iraq   \n",
      "freq                      101         18       24636   \n",
      "\n",
      "                        region_txt provstate     city  \\\n",
      "count                       181691    181270   181257   \n",
      "unique                          12      2854    36674   \n",
      "top     Middle East & North Africa   Baghdad  Unknown   \n",
      "freq                         50474      7645     9775   \n",
      "\n",
      "                                                location  \\\n",
      "count                                              55495   \n",
      "unique                                             44109   \n",
      "top     The attack took place in Baghdad, Baghdad, Iraq.   \n",
      "freq                                                 142   \n",
      "\n",
      "                                                  summary  \\\n",
      "count                                              115562   \n",
      "unique                                             112492   \n",
      "top     09/00/2016: Sometime between September 18, 201...   \n",
      "freq                                                  100   \n",
      "\n",
      "                   alternative_txt    attacktype1_txt  ...   divert  \\\n",
      "count                        29011             181691  ...      324   \n",
      "unique                           5                  9  ...      143   \n",
      "top     Insurgency/Guerilla Action  Bombing/Explosion  ...  Unknown   \n",
      "freq                         23410              88255  ...       27   \n",
      "\n",
      "       kidhijcountry ransomnote hostkidoutcome_txt  \\\n",
      "count           3305        514              10991   \n",
      "unique           217        387                  7   \n",
      "top         Colombia          0            Unknown   \n",
      "freq             687         36               3606   \n",
      "\n",
      "                                                 addnotes  \\\n",
      "count                                               28289   \n",
      "unique                                              15429   \n",
      "top     Casualty numbers for this incident conflict ac...   \n",
      "freq                                                 1607   \n",
      "\n",
      "                                                   scite1  \\\n",
      "count                                              115500   \n",
      "unique                                              83988   \n",
      "top     Committee on Government Operations United Stat...   \n",
      "freq                                                  205   \n",
      "\n",
      "                                                   scite2  \\\n",
      "count                                               76933   \n",
      "unique                                              62263   \n",
      "top     Christopher Hewitt, \"Political Violence and Te...   \n",
      "freq                                                  134   \n",
      "\n",
      "                                                   scite3  \\\n",
      "count                                               43516   \n",
      "unique                                              36090   \n",
      "top     Christopher Hewitt, \"Political Violence and Te...   \n",
      "freq                                                  139   \n",
      "\n",
      "                        dbsource  \\\n",
      "count                     181691   \n",
      "unique                        26   \n",
      "top     START Primary Collection   \n",
      "freq                       78002   \n",
      "\n",
      "                                                  related  \n",
      "count                                               25038  \n",
      "unique                                              14306  \n",
      "top     201612010023, 201612010024, 201612010025, 2016...  \n",
      "freq                                                   80  \n",
      "\n",
      "[4 rows x 58 columns]\n"
     ]
    }
   ],
   "source": [
    "#Summary of Categorical Values\n",
    "summ_cat = data.describe(include=\"O\")\n",
    "print(summ_cat)"
   ]
  },
  {
   "cell_type": "code",
   "execution_count": 8,
   "id": "154d5677",
   "metadata": {},
   "outputs": [
    {
     "data": {
      "text/plain": [
       "Insurgency/Guerilla Action    23410\n",
       "Other Crime Type               3665\n",
       "Intra/Inter-group Conflict     1296\n",
       "State Actors                    321\n",
       "Lack of Intentionality          319\n",
       "Name: alternative_txt, dtype: int64"
      ]
     },
     "execution_count": 8,
     "metadata": {},
     "output_type": "execute_result"
    }
   ],
   "source": [
    "#Frequencies of each category \n",
    "data['alternative_txt'].value_counts()"
   ]
  },
  {
   "cell_type": "code",
   "execution_count": 9,
   "id": "0014c98a",
   "metadata": {},
   "outputs": [
    {
     "data": {
      "text/plain": [
       "Bombing/Explosion                      88255\n",
       "Armed Assault                          42669\n",
       "Assassination                          19312\n",
       "Hostage Taking (Kidnapping)            11158\n",
       "Facility/Infrastructure Attack         10356\n",
       "Unknown                                 7276\n",
       "Unarmed Assault                         1015\n",
       "Hostage Taking (Barricade Incident)      991\n",
       "Hijacking                                659\n",
       "Name: attacktype1_txt, dtype: int64"
      ]
     },
     "execution_count": 9,
     "metadata": {},
     "output_type": "execute_result"
    }
   ],
   "source": [
    "data['attacktype1_txt'].value_counts()"
   ]
  },
  {
   "cell_type": "code",
   "execution_count": 10,
   "id": "2ec352fe",
   "metadata": {},
   "outputs": [
    {
     "name": "stdout",
     "output_type": "stream",
     "text": [
      "['Armed Assault' 'Assassination' 'Bombing/Explosion'\n",
      " 'Facility/Infrastructure Attack' 'Hijacking'\n",
      " 'Hostage Taking (Barricade Incident)' 'Hostage Taking (Kidnapping)'\n",
      " 'Unarmed Assault' 'Unknown']\n"
     ]
    }
   ],
   "source": [
    "#Checking unique classes\n",
    "print(np.unique(data['attacktype1_txt'])) #There exists ? instead of nan"
   ]
  },
  {
   "cell_type": "markdown",
   "id": "ecabeda4",
   "metadata": {},
   "source": [
    "## 2. Cross-tables and Data Visualization"
   ]
  },
  {
   "cell_type": "code",
   "execution_count": 11,
   "id": "e8bb4383",
   "metadata": {},
   "outputs": [
    {
     "data": {
      "text/plain": [
       "Index(['eventid', 'iyear', 'imonth', 'iday', 'approxdate', 'extended',\n",
       "       'resolution', 'country', 'country_txt', 'region',\n",
       "       ...\n",
       "       'addnotes', 'scite1', 'scite2', 'scite3', 'dbsource', 'INT_LOG',\n",
       "       'INT_IDEO', 'INT_MISC', 'INT_ANY', 'related'],\n",
       "      dtype='object', length=135)"
      ]
     },
     "execution_count": 11,
     "metadata": {},
     "output_type": "execute_result"
    }
   ],
   "source": [
    "#Extracting the column names \n",
    "data.columns"
   ]
  },
  {
   "cell_type": "code",
   "execution_count": 12,
   "id": "2e89b674",
   "metadata": {},
   "outputs": [
    {
     "name": "stdout",
     "output_type": "stream",
     "text": [
      "col_0           count\n",
      "country_txt          \n",
      "Afghanistan  0.070070\n",
      "Albania      0.000440\n",
      "Algeria      0.015097\n",
      "Andorra      0.000006\n",
      "Angola       0.002746\n",
      "...               ...\n",
      "Yemen        0.018421\n",
      "Yugoslavia   0.001117\n",
      "Zaire        0.000275\n",
      "Zambia       0.000341\n",
      "Zimbabwe     0.000556\n",
      "\n",
      "[205 rows x 1 columns]\n"
     ]
    }
   ],
   "source": [
    "#Country proportion table\n",
    "country = pd.crosstab(index = data[\"country_txt\"], columns = 'count', normalize = True)\n",
    "print(country)"
   ]
  },
  {
   "cell_type": "code",
   "execution_count": 13,
   "id": "d7801877",
   "metadata": {},
   "outputs": [
    {
     "name": "stdout",
     "output_type": "stream",
     "text": [
      "attacktype1_txt  Armed Assault  Assassination  Bombing/Explosion  \\\n",
      "country_txt                                                        \n",
      "Afghanistan           0.225984       0.074935           0.490535   \n",
      "Albania               0.137500       0.175000           0.600000   \n",
      "Algeria               0.332847       0.157127           0.396646   \n",
      "Andorra               1.000000       0.000000           0.000000   \n",
      "Angola                0.248497       0.056112           0.513026   \n",
      "...                        ...            ...                ...   \n",
      "Yugoslavia            0.453202       0.103448           0.349754   \n",
      "Zaire                 0.280000       0.140000           0.220000   \n",
      "Zambia                0.306452       0.112903           0.483871   \n",
      "Zimbabwe              0.217822       0.257426           0.336634   \n",
      "All                   0.234844       0.106290           0.485742   \n",
      "\n",
      "attacktype1_txt  Facility/Infrastructure Attack  Hijacking  \\\n",
      "country_txt                                                  \n",
      "Afghanistan                            0.027885   0.001257   \n",
      "Albania                                0.012500   0.000000   \n",
      "Algeria                                0.019322   0.003281   \n",
      "Andorra                                0.000000   0.000000   \n",
      "Angola                                 0.038076   0.000000   \n",
      "...                                         ...        ...   \n",
      "Yugoslavia                             0.024631   0.004926   \n",
      "Zaire                                  0.040000   0.000000   \n",
      "Zambia                                 0.032258   0.000000   \n",
      "Zimbabwe                               0.059406   0.000000   \n",
      "All                                    0.056998   0.003627   \n",
      "\n",
      "attacktype1_txt  Hostage Taking (Barricade Incident)  \\\n",
      "country_txt                                            \n",
      "Afghanistan                                 0.002121   \n",
      "Albania                                     0.000000   \n",
      "Algeria                                     0.001458   \n",
      "Andorra                                     0.000000   \n",
      "Angola                                      0.002004   \n",
      "...                                              ...   \n",
      "Yugoslavia                                  0.000000   \n",
      "Zaire                                       0.000000   \n",
      "Zambia                                      0.032258   \n",
      "Zimbabwe                                    0.019802   \n",
      "All                                         0.005454   \n",
      "\n",
      "attacktype1_txt  Hostage Taking (Kidnapping)  Unarmed Assault   Unknown  \n",
      "country_txt                                                              \n",
      "Afghanistan                         0.079412         0.005734  0.092137  \n",
      "Albania                             0.025000         0.025000  0.025000  \n",
      "Algeria                             0.035363         0.000365  0.053591  \n",
      "Andorra                             0.000000         0.000000  0.000000  \n",
      "Angola                              0.056112         0.002004  0.084168  \n",
      "...                                      ...              ...       ...  \n",
      "Yugoslavia                          0.024631         0.000000  0.039409  \n",
      "Zaire                               0.060000         0.000000  0.260000  \n",
      "Zambia                              0.032258         0.000000  0.000000  \n",
      "Zimbabwe                            0.039604         0.019802  0.049505  \n",
      "All                                 0.061412         0.005586  0.040046  \n",
      "\n",
      "[206 rows x 9 columns]\n"
     ]
    }
   ],
   "source": [
    "#Attack Type vs Country\n",
    "count_atttype = pd.crosstab(index = data[\"country_txt\"], columns = data['attacktype1_txt'], margins = True, normalize = 'index')\n",
    "print(count_atttype)"
   ]
  },
  {
   "cell_type": "code",
   "execution_count": 14,
   "id": "0f4851ff",
   "metadata": {},
   "outputs": [
    {
     "name": "stderr",
     "output_type": "stream",
     "text": [
      "c:\\users\\swathilakshmi\\appdata\\local\\programs\\python\\python39\\lib\\site-packages\\seaborn\\_decorators.py:36: FutureWarning: Pass the following variable as a keyword arg: x. From version 0.12, the only valid positional argument will be `data`, and passing other arguments without an explicit keyword will result in an error or misinterpretation.\n",
      "  warnings.warn(\n"
     ]
    },
    {
     "name": "stdout",
     "output_type": "stream",
     "text": [
      "AxesSubplot(0.125,0.125;0.775x0.755)\n"
     ]
    },
    {
     "data": {
      "image/png": "[encoded data removed]",
      "text/plain": [
       "<Figure size 432x288 with 1 Axes>"
      ]
     },
     "metadata": {
      "needs_background": "light"
     },
     "output_type": "display_data"
    }
   ],
   "source": [
    "#Frequency Distribution of \"Attack Type\"\n",
    "attack_type = sns.countplot(data['attacktype1_txt'])\n",
    "print(attack_type)"
   ]
  },
  {
   "cell_type": "code",
   "execution_count": 19,
   "id": "6d3d8426",
   "metadata": {},
   "outputs": [
    {
     "data": {
      "text/plain": [
       "<AxesSubplot:xlabel='attacktype1'>"
      ]
     },
     "execution_count": 19,
     "metadata": {},
     "output_type": "execute_result"
    },
    {
     "data": {
      "image/png": "[encoded data removed]",
      "text/plain": [
       "<Figure size 432x288 with 1 Axes>"
      ]
     },
     "metadata": {
      "needs_background": "light"
     },
     "output_type": "display_data"
    }
   ],
   "source": [
    "#Histogram of attack type\n",
    "sns.distplot(data['attacktype1'], bins=10, kde=False)"
   ]
  },
  {
   "cell_type": "code",
   "execution_count": null,
   "id": "0e15eb53",
   "metadata": {},
   "outputs": [],
   "source": []
  }
 ],
 "metadata": {
  "kernelspec": {
   "display_name": "Python 3",
   "language": "python",
   "name": "python3"
  },
  "language_info": {
   "codemirror_mode": {
    "name": "ipython",
    "version": 3
   },
   "file_extension": ".py",
   "mimetype": "text/x-python",
   "name": "python",
   "nbconvert_exporter": "python",
   "pygments_lexer": "ipython3",
   "version": "3.8.8"
  }
 },
 "nbformat": 4,
 "nbformat_minor": 5
}
